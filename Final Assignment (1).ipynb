{
 "cells": [
  {
   "cell_type": "markdown",
   "metadata": {},
   "source": [
    "<center>\n",
    "    <img src=\"https://cf-courses-data.s3.us.cloud-object-storage.appdomain.cloud/IBMDeveloperSkillsNetwork-DS0105EN-SkillsNetwork/labs/Module2/images/SN_web_lightmode.png\" width=\"300\" alt=\"cognitiveclass.ai logo\">\n",
    "</center>\n"
   ]
  },
  {
   "cell_type": "markdown",
   "metadata": {},
   "source": [
    "#### Add your code below following the instructions given in the course\n"
   ]
  },
  {
   "cell_type": "markdown",
   "metadata": {},
   "source": [
    "# Final Assignment"
   ]
  },
  {
   "cell_type": "markdown",
   "metadata": {},
   "source": [
    "Hello! This is my *Tools for Data Science* Final Assignment."
   ]
  },
  {
   "cell_type": "markdown",
   "metadata": {},
   "source": [
    "### *This is a markdown cell listing Data Science languages*\n",
    "1. Python\n",
    "2. R\n",
    "3. SQL\n",
    "4. Scala\n",
    "5. Java\n",
    "6. C++\n",
    "7. Julia\n",
    "8. JavaScript\n",
    "9. PHP\n",
    "10. Ruby\n",
    "11. Visual Basic"
   ]
  },
  {
   "cell_type": "markdown",
   "metadata": {},
   "source": [
    "| Data Management | Data Integration and Transformation | Data Visualization | Model Deployment | Model Monitoring and Assessment | Code Asset Management | Data Asset Management | Model Development | Development Environments | Execution Environments | Fully Integrated Visual Tools |\n",
    "| --------------- | ----------------------------------- | ------------------ | ---------------- | ------------------------------- | --------------------- | ------------------------------ | ----------------- | ------------------------ | ---------------------- | ----------------------------- |\n",
    "| PostgreSQL | Kubeflow | HUE | PredictionIO | ModelDB | Git | Apache Atlas | Watson Studio | Jupyter | Apache Spark | KNIME | \n",
    "| MySQL | Kafka | Kibana | Mleap | Prometheus | GitHub | EGERIA | Watson OpenScale | Jupyter Lab | Flink | Watson Studio |\n",
    "| Mongo DB | Apache Airflow | Superset | Seldom | AI Fairness 360 Open Source Toolkit | GitLab | Kylo | IBM Watson Machine Learning | Apache Zeppelin | | Watson OpenScale |\n",
    "| CouchDB | Apache nifi | Pixie Dust | Keubernetes | Adversarial Robustness 360 Toolbox |  Bitbucket | | | | | Microsoft Azure Machine Learning | |Informatica | RStudio | IBM Watson Studio Desktop | IBM InfoSphere Information Governance Catalog |\n",
    "| Cassandra | Node-RED | Tableau | Open Shift | AI Explainability 360 | Spyder | | | | | H2O.ai |\n",
    "| Hadoop | Apache Spark | Microsoft Power BI | TensorFlow | SPSS Modeler |\n",
    "| Ceph | Informatica | IBM Cognos Analytics | SAS Enterprise Miner | Amazon SageMaker Model Monitor |\n",
    "| Elasticsearch | IBM InfoSphere DataStage | Datameer | IBM Watson Machine Learning |\n",
    "| Oracle Database | Talend | Watson Studio |\n",
    "| Microsoft SQLServer | IBM Watson Studio Desktop | IBM Watson Machine Learning |\n",
    "| IBM DB2 | Informatica | Google Cloud |\n",
    "| Amazon Dynamo DB | IBM Data Refinery |\n",
    "| Cloudant|"
   ]
  },
  {
   "cell_type": "markdown",
   "metadata": {},
   "source": [
    "### *This is a markdown cell listing basic arithmetic*\n",
    "\n",
    "- __Addition:__  + \n",
    "\n",
    "- __Subtraction:__  -\n",
    "\n",
    "- __Multiplication:__  *\n",
    "\n",
    "- __Exponents:__  **\n",
    "\n",
    "-  __Divison:__  /\n",
    "\n",
    "- __Division (rounded to nearest 10th):__  //\n",
    "\n",
    "- __Divison (remainder):__  %"
   ]
  },
  {
   "cell_type": "markdown",
   "metadata": {},
   "source": [
    "### *This is a markdown cell listing Data Science Libraries*\n",
    "\n",
    "1. Pandas\n",
    "2. NumPy\n",
    "3. Matplotlib\n",
    "4. Seaborn\n",
    "5. Scikit-learn\n",
    "6. Keras\n",
    "7. TensorFLow\n",
    "8. Pytorch\n",
    "9. Apache Spark\n",
    "10. Vegas\n",
    "11. ggplot2"
   ]
  },
  {
   "cell_type": "code",
   "execution_count": 4,
   "metadata": {},
   "outputs": [
    {
     "name": "stdout",
     "output_type": "stream",
     "text": [
      "6\n",
      "6\n"
     ]
    }
   ],
   "source": [
    "# mupltiply and add\n",
    "class multiply_add:\n",
    "  def __init__(self,*num):\n",
    "    self.num = num\n",
    "  def multiply(self): # function to calculate product\n",
    "    x = 1\n",
    "    for n in self.num:\n",
    "      x *= n\n",
    "    print(x)\n",
    "\n",
    "\n",
    "  def add(self): # function to calculate sum\n",
    "    print(sum(self.num))\n",
    "\n",
    "A = multiply_add(1, 2, 3) # enter numbers you want multiplied ex: var = multiply_add(5 ,4, 3). Any length of input is valid.\n",
    "\n",
    "A.multiply() # provides product of numbers in multiply_add()\n",
    "A.add() # provides sum of numbers in multiply_add()"
   ]
  },
  {
   "cell_type": "code",
   "execution_count": 5,
   "metadata": {},
   "outputs": [
    {
     "name": "stdout",
     "output_type": "stream",
     "text": [
      "30 minutes is equal to 0.5 hours\n"
     ]
    }
   ],
   "source": [
    "# convert minutes to hours\n",
    "def min_to_hour(min):\n",
    "  hours = min / 60\n",
    "  print(f'{min} minutes is equal to {round(hours, 4)} hours')\n",
    "\n",
    "min_to_hour(30)"
   ]
  },
  {
   "cell_type": "markdown",
   "metadata": {},
   "source": [
    "### *My objectives for this assignment*\n",
    "\n",
    "* Make an addition and multiplication calculator\n",
    "* Make an minutes to hour calculator"
   ]
  },
  {
   "cell_type": "markdown",
   "metadata": {},
   "source": [
    "## Author\n",
    "- Name"
   ]
  }
 ],
 "metadata": {
  "kernelspec": {
   "display_name": "Python 3 (ipykernel)",
   "language": "python",
   "name": "python3"
  },
  "language_info": {
   "codemirror_mode": {
    "name": "ipython",
    "version": 3
   },
   "file_extension": ".py",
   "mimetype": "text/x-python",
   "name": "python",
   "nbconvert_exporter": "python",
   "pygments_lexer": "ipython3",
   "version": "3.12.8"
  }
 },
 "nbformat": 4,
 "nbformat_minor": 4
}
